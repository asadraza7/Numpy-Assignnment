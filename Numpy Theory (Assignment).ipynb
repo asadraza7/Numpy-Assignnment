{
 "cells": [
  {
   "cell_type": "markdown",
   "id": "6c9f2176-c391-4464-832f-edd008e1755e",
   "metadata": {},
   "source": [
    "(Q)1)Explain the purpose and advantages of NumPy in scientific computing and data analysis. How does it \n",
    "enhance Python's capabilities for numerical operations?\n",
    "\n",
    "#Ans:-The purpose and Advantages of Numpy in scientific computing and data analysis are\n",
    "\n",
    "(.)Numpy are used so that it easily handle complex task , handle arrays, mathematical operation etc.It also provide various collections of mathematical tools\n",
    "like:-Linear algebra,Sin,cos etc.\n",
    "\n",
    "(.)Numpy are homogeneous in nature.\n",
    "\n",
    "(.)It enhance python capabilities for numerical operations because numpy array was created by using \"c\" which is one of fastest language and  it is used to operate mathematical operations easily,as it is homogeneous in nature."
   ]
  },
  {
   "cell_type": "markdown",
   "id": "d86cebc9-3486-43f9-9419-5bbf35a427b6",
   "metadata": {},
   "source": [
    "(Q)2)Compare and contrast np.mean() and np.average() functions in NumPy. When would you use one over the \n",
    "other?\n",
    "\n",
    "#Ans:-np.mean and np.average is mostly similar in nature.\n",
    "(.)np.mean work is to give average value of numbers which is given in input,np.mean is mostly used in \"Numpy\".Module Numpy has no attribute \"np.average\".\n",
    "\n",
    "(.)np.average work's is to give average value of numbers.\n",
    "Numpy has no attribute \"average\", that's why it is not used in numpy.it is used in some other modules\n",
    "like:-list,etc..\n"
   ]
  },
  {
   "cell_type": "markdown",
   "id": "302452bc-780b-404f-b3af-aa4b81062a7e",
   "metadata": {},
   "source": [
    "(Q)3)Describe the methods for reversing a NumPy array along different axes. Provide examples for 1D and 2D \n",
    "arrays.\n",
    "\n",
    "#(Ans):-The methods for reversing a Numpy array along different axes are\n",
    "(.)If you want to reverse the Numpy array ,then you use \".T\" for reversing from both axes.If you did \".T\",Row become column and column become Rows.\n"
   ]
  },
  {
   "cell_type": "code",
   "execution_count": 4,
   "id": "28813f27-3354-4801-bafd-aa38da5cb5ac",
   "metadata": {},
   "outputs": [
    {
     "data": {
      "text/plain": [
       "array([1, 2, 3, 4])"
      ]
     },
     "execution_count": 4,
     "metadata": {},
     "output_type": "execute_result"
    }
   ],
   "source": [
    "#Ex:-\n",
    "import numpy as np\n",
    "ar=np.array([1,2,3,4]) #It is one dimension(1d) array\n",
    "ar"
   ]
  },
  {
   "cell_type": "code",
   "execution_count": 17,
   "id": "a58a2546-b54c-486c-9e78-6348e5274611",
   "metadata": {},
   "outputs": [
    {
     "data": {
      "text/plain": [
       "array([1, 2, 3, 4])"
      ]
     },
     "execution_count": 17,
     "metadata": {},
     "output_type": "execute_result"
    }
   ],
   "source": [
    "ar.T"
   ]
  },
  {
   "cell_type": "code",
   "execution_count": 18,
   "id": "bf66b4b5-eed8-481b-a7c0-698f9bdf8046",
   "metadata": {},
   "outputs": [
    {
     "data": {
      "text/plain": [
       "1"
      ]
     },
     "execution_count": 18,
     "metadata": {},
     "output_type": "execute_result"
    }
   ],
   "source": [
    "ar.ndim"
   ]
  },
  {
   "cell_type": "code",
   "execution_count": 35,
   "id": "8051dcf5-f842-4fb1-8567-e05945b21628",
   "metadata": {},
   "outputs": [
    {
     "data": {
      "text/plain": [
       "array([[0., 0., 0., 0.],\n",
       "       [0., 0., 0., 0.],\n",
       "       [0., 0., 0., 0.]])"
      ]
     },
     "execution_count": 35,
     "metadata": {},
     "output_type": "execute_result"
    }
   ],
   "source": [
    "#2d array#\n",
    "arr=np.zeros((3,4))\n",
    "arr"
   ]
  },
  {
   "cell_type": "code",
   "execution_count": 36,
   "id": "d325e020-70ee-4aaf-89f1-dd5fe06270d6",
   "metadata": {},
   "outputs": [
    {
     "data": {
      "text/plain": [
       "2"
      ]
     },
     "execution_count": 36,
     "metadata": {},
     "output_type": "execute_result"
    }
   ],
   "source": [
    "arr.ndim"
   ]
  },
  {
   "cell_type": "markdown",
   "id": "ca0cbb97-15e2-4443-8ab9-ede79b68f03b",
   "metadata": {},
   "source": [
    "(Q)4)How can you determine the data type of elements in a NumPy array? Discuss the importance of data types \n",
    "in memory management and performance\n",
    "\n",
    "#Ans:-We can check the data type of numpy array by using \"dtype\".It returns the data type of all the elements which is present in array.\n"
   ]
  },
  {
   "cell_type": "code",
   "execution_count": 37,
   "id": "614c11e7-fdb0-40fe-bc38-bc473fe329e6",
   "metadata": {},
   "outputs": [
    {
     "data": {
      "text/plain": [
       "array([1, 2, 3, 4])"
      ]
     },
     "execution_count": 37,
     "metadata": {},
     "output_type": "execute_result"
    }
   ],
   "source": [
    "#Exampel:-\n",
    "at=np.array([1,2,3,4])\n",
    "at"
   ]
  },
  {
   "cell_type": "code",
   "execution_count": 39,
   "id": "8131c066-8a95-4729-b2e3-f4c2542ebc48",
   "metadata": {},
   "outputs": [
    {
     "data": {
      "text/plain": [
       "dtype('int64')"
      ]
     },
     "execution_count": 39,
     "metadata": {},
     "output_type": "execute_result"
    }
   ],
   "source": [
    "at.dtype"
   ]
  },
  {
   "cell_type": "markdown",
   "id": "ce5d3128-549f-4856-a167-e87b32952030",
   "metadata": {},
   "source": [
    "importance of data types in memory management and performenc are \n",
    "(.)All the elementswhich is present in array  will pointing to yhe same memory location because it is in homogenous in nature."
   ]
  },
  {
   "cell_type": "markdown",
   "id": "55b53561-4a44-49f5-bb80-e4c92a341d5d",
   "metadata": {},
   "source": [
    "(Q)5)Define ndarrays in NumPy and explain their key features. How do they differ from standard Python lists?\n",
    "\n",
    "#Ans:-Ndarray is known as N dimensional arrays.Ndarrays size is fixed ,it cannot be changed.\n",
    "\n",
    "Their key features are\n",
    "(.)Firstly,Once size is define then it cannot be change.\n",
    "like:-\n",
    "a=np.array((3,4))\n",
    "Answer come in the size of (3,4) ,it cannot be (3,3),(3,5),etc..\n",
    "\n",
    "They differ from standard python lists because Numpy array are much faster and have strict requirement on homogeneity.\n",
    "on the other hand , python lists have lesser faster as compared to Nd array and it have not strict requirement on homogeneity."
   ]
  },
  {
   "cell_type": "markdown",
   "id": "4cb5d67a-6a83-49d2-8a00-2702fa39b6f3",
   "metadata": {},
   "source": [
    "(Q)6)Analyze the performance benefits of NumPy arrays over Python lists for large-scale numerical operations.\n",
    "\n",
    "#Ans:-The performance benefits of Numpy arrays over python lists for numerical operations is that Numpy arrays is much faster as compared to Python lists because it is homogeneous in nature that's why it mathematical operation is much faster than Python lists."
   ]
  },
  {
   "cell_type": "markdown",
   "id": "8bdd2f05-4d20-4c6d-97a8-027bc5f54b00",
   "metadata": {},
   "source": [
    "(Q)7)Compare vstack() and hstack() functions in NumPy. Provide examples demonstrating their usage and \n",
    "output.\n",
    "\n",
    "#Ans:-The main difference between vstack() and hstack() is that vstack() combine Numpy arrays vertically and hstack combine Numpy arrays horizontally."
   ]
  },
  {
   "cell_type": "code",
   "execution_count": 10,
   "id": "437f9ad8-d51c-42c7-9b4b-063e89a4376a",
   "metadata": {},
   "outputs": [
    {
     "data": {
      "text/plain": [
       "array([[1, 2, 3],\n",
       "       [4, 5, 6]])"
      ]
     },
     "execution_count": 10,
     "metadata": {},
     "output_type": "execute_result"
    }
   ],
   "source": [
    "#Example:-\n",
    "import numpy as np\n",
    "ar=np.array([[1,2,3],[4,5,6]])\n",
    "ar"
   ]
  },
  {
   "cell_type": "code",
   "execution_count": 11,
   "id": "d5e17cc2-346b-4a69-bc53-fb647ca6fde1",
   "metadata": {},
   "outputs": [
    {
     "data": {
      "text/plain": [
       "array([[1, 2, 3],\n",
       "       [4, 5, 6]])"
      ]
     },
     "execution_count": 11,
     "metadata": {},
     "output_type": "execute_result"
    }
   ],
   "source": [
    "np.vstack(ar)"
   ]
  },
  {
   "cell_type": "code",
   "execution_count": 12,
   "id": "ff2ebfc5-135b-4d66-8a9f-5aad02817ed0",
   "metadata": {},
   "outputs": [
    {
     "data": {
      "text/plain": [
       "array([1, 2, 3, 4, 5, 6])"
      ]
     },
     "execution_count": 12,
     "metadata": {},
     "output_type": "execute_result"
    }
   ],
   "source": [
    "np.hstack(ar)"
   ]
  },
  {
   "cell_type": "markdown",
   "id": "357c8119-0ebb-47a2-b647-7de782b1af73",
   "metadata": {},
   "source": [
    "(Q)8) Explain the differences between fliplr() and flipud() methods in NumPy, including their effects on various \n",
    "array dimensions.\n",
    "\n",
    "#Ans:-The differences between fliplr() and flipud() methonds in Numpy is that ,flipud() can flip arrays in the vertical direction.\n",
    "fliplr() can flip in any direction."
   ]
  },
  {
   "cell_type": "code",
   "execution_count": 13,
   "id": "ff654fa7-5546-4693-af81-5fd7c357ff7e",
   "metadata": {},
   "outputs": [
    {
     "data": {
      "text/plain": [
       "array([[4, 5, 6],\n",
       "       [1, 2, 3]])"
      ]
     },
     "execution_count": 13,
     "metadata": {},
     "output_type": "execute_result"
    }
   ],
   "source": [
    "np.flipud(ar)"
   ]
  },
  {
   "cell_type": "code",
   "execution_count": 17,
   "id": "4e930bdf-c886-49c7-bc56-2e860f22b4ee",
   "metadata": {},
   "outputs": [
    {
     "data": {
      "text/plain": [
       "array([[3, 2, 1],\n",
       "       [6, 5, 4]])"
      ]
     },
     "execution_count": 17,
     "metadata": {},
     "output_type": "execute_result"
    }
   ],
   "source": [
    "np.fliplr(ar)"
   ]
  },
  {
   "cell_type": "markdown",
   "id": "93babd23-4812-43ee-9a93-e2fa2e68cddd",
   "metadata": {},
   "source": [
    "(Q)9)Discuss the functionality of the array_split() method in NumPy. How does it handle uneven splits?\n",
    "\n",
    "#Ans:-Array_spli() is used to split into multiple sub array.\n",
    "It handle uneven splits and any remaining elements."
   ]
  },
  {
   "cell_type": "markdown",
   "id": "20447850-6ae9-453c-a640-f4141818b82a",
   "metadata": {},
   "source": [
    "(Q)10)Explain the concepts of vectorization and broadcasting in NumPy. How do they contribute to efficient array \n",
    "operations?\n",
    "\n",
    "#Ans:-vectorization is the process of converting algorithm from single operating value.\n",
    "Brodcasting "
   ]
  }
 ],
 "metadata": {
  "kernelspec": {
   "display_name": "Python 3 (ipykernel)",
   "language": "python",
   "name": "python3"
  },
  "language_info": {
   "codemirror_mode": {
    "name": "ipython",
    "version": 3
   },
   "file_extension": ".py",
   "mimetype": "text/x-python",
   "name": "python",
   "nbconvert_exporter": "python",
   "pygments_lexer": "ipython3",
   "version": "3.10.8"
  }
 },
 "nbformat": 4,
 "nbformat_minor": 5
}
